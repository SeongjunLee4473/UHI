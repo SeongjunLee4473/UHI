{
 "cells": [
  {
   "cell_type": "code",
   "execution_count": 1,
   "id": "4ca67e87-ebfe-4080-b04e-98a36c814ea8",
   "metadata": {
    "tags": []
   },
   "outputs": [
    {
     "name": "stdout",
     "output_type": "stream",
     "text": [
      "/home/subin/data /home/subin/cpuserver_data\n"
     ]
    }
   ],
   "source": [
    "import numpy as np\n",
    "import matplotlib.pyplot as plt\n",
    "import pandas as pd\n",
    "import os\n",
    "import sys\n",
    "import glob\n",
    "import re\n",
    "import platform\n",
    "import importlib\n",
    "import netCDF4\n",
    "import multiprocessing as mp\n",
    "import itertools\n",
    "\n",
    "base_FP = f'/home/subin/data'\n",
    "cpuserver_data_FP = f'/home/subin/cpuserver_data'\n",
    "print(base_FP, cpuserver_data_FP)\n",
    "sys.path.append(base_FP + '/python_modules')\n",
    "\n",
    "#hydroAI libs\n",
    "import HydroAI.HLS as hHLS\n",
    "import HydroAI.Plot as hPlot\n",
    "import HydroAI.Data as hData\n",
    "import HydroAI.Grid as hGrid\n",
    "importlib.reload(hHLS);\n",
    "importlib.reload(hPlot);\n",
    "importlib.reload(hData);\n",
    "importlib.reload(hGrid);"
   ]
  },
  {
   "cell_type": "code",
   "execution_count": 2,
   "id": "ff478527-b546-4570-8db0-8085b8d022b7",
   "metadata": {
    "tags": []
   },
   "outputs": [
    {
     "name": "stdout",
     "output_type": "stream",
     "text": [
      "['latitude', 'longitude', 'dates', 'coastal', 'blue', 'green', 'red', 'nir', 'swir1', 'swir2', 'cirrus', 'tir1', 'tir2', 'qa']\n",
      "['coastal', 'blue', 'green', 'red', 'nir', 'swir1', 'swir2', 'cirrus', 'tir1', 'tir2', 'qa']\n"
     ]
    }
   ],
   "source": [
    "start_year = 2013; end_year = 2024\n",
    "\n",
    "temp_path = f'{cpuserver_data_FP}/HLS/Korea/UHI_project_L30/HLS_2013_GJ.nc'\n",
    "with netCDF4.Dataset(temp_path) as nc_data:\n",
    "    vars_list = list(nc_data.variables.keys())\n",
    "\n",
    "print(vars_list)\n",
    "remove_vars = ['latitude', 'longitude', 'dates']\n",
    "vars_list = [i for i in vars_list if i not in remove_vars]\n",
    "print(vars_list)"
   ]
  },
  {
   "cell_type": "code",
   "execution_count": 3,
   "id": "a463f7f7-5466-4206-81b9-be00c42874eb",
   "metadata": {
    "tags": []
   },
   "outputs": [
    {
     "name": "stdout",
     "output_type": "stream",
     "text": [
      "2013 (26811122, 14)\n",
      "2014 (38688618, 14)\n",
      "2015 (40473344, 14)\n",
      "2016 (39499565, 14)\n",
      "2017 (37928852, 14)\n",
      "2018 (41973313, 14)\n",
      "2019 (43778229, 14)\n",
      "2020 (39936867, 14)\n",
      "2021 (43516534, 14)\n",
      "2022 (78018647, 14)\n",
      "2023 (78528736, 14)\n"
     ]
    }
   ],
   "source": [
    "for i, year in enumerate(range(start_year, end_year)):\n",
    "    \n",
    "    with netCDF4.Dataset(f'{cpuserver_data_FP}/HLS/Korea/UHI_project_L30/HLS_{year}_GJ.nc') as nc_data:\n",
    "        nc_lat = nc_data.variables['latitude'][:].data\n",
    "        nc_lon = nc_data.variables['longitude'][:].data\n",
    "        nc_dates = nc_data.variables['dates'][:].data\n",
    "\n",
    "        for date_idx, date in enumerate(nc_dates):\n",
    "            df_year = pd.DataFrame()\n",
    "            df_year['latitude'] = nc_lat.flatten()\n",
    "            df_year['longitude'] = nc_lon.flatten()\n",
    "            df_year['dates'] = date\n",
    "\n",
    "            for var_name in vars_list:     \n",
    "                nc_var = nc_data.variables[var_name][:, :, date_idx].data\n",
    "                df_year[var_name] = nc_var.flatten()\n",
    "\n",
    "            if date_idx != 0:\n",
    "                df_year = pd.concat([df_year_old, df_year], axis=0)\n",
    "\n",
    "            df_year_old = df_year\n",
    "\n",
    "    df_year = df_year.dropna(axis=0)\n",
    "\n",
    "    print(year, np.shape(df_year))\n",
    "    \n",
    "    df_year.to_csv(f'{cpuserver_data_FP}/HLS/Korea/UHI_project_L30/HLS_{year}_GJ.csv', sep=',')\n",
    "    \n",
    "    del df_year_old\n",
    "    del df_year"
   ]
  },
  {
   "cell_type": "code",
   "execution_count": null,
   "id": "5ca9c73e-a512-4d81-ab16-9d8f448adcee",
   "metadata": {
    "tags": []
   },
   "outputs": [],
   "source": [
    "nc_dates"
   ]
  },
  {
   "cell_type": "code",
   "execution_count": null,
   "id": "26b7b7b1-2aac-485a-a852-44f9f635f5f4",
   "metadata": {
    "tags": []
   },
   "outputs": [],
   "source": [
    "#df_year_total.to_csv(f'{cpuserver_data_FP}/HLS/Korea/UHI_project_L30/HLS_2015_2023_GJ.csv', sep=',')"
   ]
  },
  {
   "cell_type": "code",
   "execution_count": null,
   "id": "e3bbc2c8-ccf7-417b-9f7a-4d664d1ba9de",
   "metadata": {},
   "outputs": [],
   "source": []
  }
 ],
 "metadata": {
  "kernelspec": {
   "display_name": "Python 3 (ipykernel)",
   "language": "python",
   "name": "python3"
  },
  "language_info": {
   "codemirror_mode": {
    "name": "ipython",
    "version": 3
   },
   "file_extension": ".py",
   "mimetype": "text/x-python",
   "name": "python",
   "nbconvert_exporter": "python",
   "pygments_lexer": "ipython3",
   "version": "3.10.9"
  }
 },
 "nbformat": 4,
 "nbformat_minor": 5
}
